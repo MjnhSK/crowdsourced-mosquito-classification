{
 "cells": [
  {
   "cell_type": "code",
   "execution_count": 1,
   "metadata": {},
   "outputs": [],
   "source": [
    "import pandas as pd\n",
    "from sklearn.model_selection import train_test_split\n",
    "import os"
   ]
  },
  {
   "cell_type": "markdown",
   "metadata": {},
   "source": [
    "# Path"
   ]
  },
  {
   "cell_type": "code",
   "execution_count": 2,
   "metadata": {},
   "outputs": [],
   "source": [
    "train_path = '../data_round_2/best_model_train_data_yolo_annotations.csv'\n",
    "val_path = '../data_round_2/best_model_val_data_yolo_annotations.csv'\n",
    "\n",
    "gbif_csv = \"../gbif-cropped/inaturalist.csv\"\n",
    "ina_csv = \"../data_round_2/inaturalist_anno.csv\""
   ]
  },
  {
   "cell_type": "code",
   "execution_count": 3,
   "metadata": {},
   "outputs": [],
   "source": [
    "mosAlert_dir = \"../data_round_2/final/\"\n",
    "gbif_dir = \"../gbif-cropped/\""
   ]
  },
  {
   "cell_type": "code",
   "execution_count": 4,
   "metadata": {},
   "outputs": [],
   "source": [
    "gbif_df = pd.read_csv(gbif_csv)\n",
    "gbif_df['img_fName'] = gbif_dir + gbif_df['img_fName']\n",
    "\n",
    "df_train = pd.read_csv(train_path)\n",
    "df_val = pd.read_csv(val_path)\n",
    "df = pd.concat([df_train, df_val])\n",
    "df.img_fName = mosAlert_dir + df.img_fName\n",
    "new_df = df.drop_duplicates(subset='img_fName', keep='first')\n",
    "\n",
    "new_lux_df = pd.concat([new_df, gbif_df])"
   ]
  },
  {
   "cell_type": "code",
   "execution_count": null,
   "metadata": {},
   "outputs": [],
   "source": [
    "new_lux_df.class_label.value_counts()"
   ]
  },
  {
   "cell_type": "code",
   "execution_count": null,
   "metadata": {},
   "outputs": [],
   "source": [
    "ina_df = pd.read_csv(ina_csv)\n",
    "ina_df.head()"
   ]
  },
  {
   "cell_type": "code",
   "execution_count": null,
   "metadata": {},
   "outputs": [],
   "source": [
    "ina_df['class_label'] = ina_df['class_label'].replace(['koreicus', 'japonicus'], 'japonicus/koreicus')\n",
    "ina_df['class_label'] = ina_df['class_label'].replace('anopheies', 'anopheles')\n",
    "ina_df.head()"
   ]
  },
  {
   "cell_type": "code",
   "execution_count": null,
   "metadata": {},
   "outputs": [],
   "source": [
    "new_df = pd.concat([new_lux_df, ina_df])\n",
    "new_df.class_label.value_counts()"
   ]
  },
  {
   "cell_type": "code",
   "execution_count": 9,
   "metadata": {},
   "outputs": [],
   "source": [
    "culex_df = new_df[new_df['class_label'] == 'culex'].sample(n=3000, random_state=42)\n",
    "albopictus_df = new_df[new_df['class_label'] == 'albopictus'].sample(n=3000, random_state=42)\n",
    "\n",
    "df_ = new_df[~new_df['class_label'].isin(['culex', 'albopictus'])]\n",
    "df_ma_gbif_ina = pd.concat([culex_df, albopictus_df, df_]).sample(frac=1, random_state=42).reset_index(drop=True)"
   ]
  },
  {
   "cell_type": "code",
   "execution_count": null,
   "metadata": {},
   "outputs": [],
   "source": [
    "df_ma_gbif_ina.class_label.value_counts()"
   ]
  },
  {
   "cell_type": "code",
   "execution_count": null,
   "metadata": {},
   "outputs": [],
   "source": [
    "df_ma_gbif_ina.shape"
   ]
  },
  {
   "cell_type": "code",
   "execution_count": 13,
   "metadata": {},
   "outputs": [],
   "source": [
    "df_ma_gbif_ina.to_csv('../data_round_2/ma_gbif_ina.csv', index=False)"
   ]
  },
  {
   "cell_type": "markdown",
   "metadata": {},
   "source": [
    "# Unknown Class"
   ]
  },
  {
   "cell_type": "code",
   "execution_count": 14,
   "metadata": {},
   "outputs": [],
   "source": [
    "unknown_class = ['aegypti', 'anopheles']\n",
    "\n",
    "mask = df_ma_gbif_ina['class_label'].isin(unknown_class)\n",
    "df_ma_gbif_ina_ = df_ma_gbif_ina[~mask]"
   ]
  },
  {
   "cell_type": "markdown",
   "metadata": {},
   "source": [
    "# StratifiedKFold Open"
   ]
  },
  {
   "cell_type": "code",
   "execution_count": 6,
   "metadata": {},
   "outputs": [],
   "source": [
    "from sklearn.model_selection import train_test_split, StratifiedKFold\n",
    "import numpy as np\n",
    "import pandas as pd\n",
    "import os\n",
    "\n",
    "save_dir = '../data_round_2/Folds/'\n",
    "os.makedirs(save_dir, exist_ok=True)\n",
    "\n",
    "val_annotations_csv = \"../data_round_2/mosAlert_new_annotation_2/val_annotation_2.csv\"\n",
    "train_annotations_csv = \"../data_round_2/mosAlert_new_annotation_2/train_annotation_2.csv\"\n",
    "train_df = pd.read_csv(train_annotations_csv)\n",
    "val_df = pd.read_csv(val_annotations_csv)\n",
    "\n",
    "train_val_data = pd.concat([train_df, val_df])\n",
    "\n",
    "X_train_val = train_val_data[['img_fName', 'img_w', 'img_h', 'bbx_xtl', 'bbx_ytl', 'bbx_xbr', 'bbx_ybr']]\n",
    "y_train_val = train_val_data['class_label']\n",
    "\n",
    "skf = StratifiedKFold(n_splits=5)\n",
    "\n",
    "for fold, (train_index, val_index) in enumerate(skf.split(X_train_val, y_train_val)):\n",
    "    X_train = X_train_val.iloc[train_index]\n",
    "    X_val = X_train_val.iloc[val_index]\n",
    "    y_train = y_train_val.iloc[train_index]\n",
    "    y_val = y_train_val.iloc[val_index]\n",
    "\n",
    "    train_data = pd.concat([X_train, y_train], axis=1)\n",
    "    val_data = pd.concat([X_val, y_val], axis=1)\n",
    "\n",
    "    train_data.to_csv(f'{save_dir}train_fold_{fold}.csv', index=False)\n",
    "    val_data.to_csv(f'{save_dir}val_fold_{fold}.csv', index=False)"
   ]
  },
  {
   "cell_type": "markdown",
   "metadata": {},
   "source": [
    "# Partition"
   ]
  },
  {
   "cell_type": "markdown",
   "metadata": {},
   "source": [
    "## Closed-set 6 classes (ma + gbif)"
   ]
  },
  {
   "cell_type": "code",
   "execution_count": 7,
   "metadata": {},
   "outputs": [],
   "source": [
    "# Train/Val/Test split for Known classes\n",
    "df_train, df_K_temp = train_test_split(new_lux_df, test_size=0.3, random_state=42)\n",
    "df_val, df_test = train_test_split(df_K_temp, test_size=0.5, random_state=42)\n",
    "\n",
    "path = '../data_round_2/closedSet/'\n",
    "os.makedirs(path, exist_ok=True)\n",
    "\n",
    "train_path = path + '/train.csv'\n",
    "val_path = path + '/val.csv'\n",
    "test_path = path + '/test.csv'\n",
    "\n",
    "df_train.to_csv(train_path, index=False)\n",
    "df_test .to_csv(test_path, index=False)\n",
    "df_val.to_csv(val_path, index=False)"
   ]
  },
  {
   "cell_type": "markdown",
   "metadata": {},
   "source": [
    "## Anno 2.5: anopheles + jp/kr (full)"
   ]
  },
  {
   "cell_type": "code",
   "execution_count": 15,
   "metadata": {},
   "outputs": [],
   "source": [
    "# Train/Val/Test split for Known classes\n",
    "df_train, df_K_temp = train_test_split(df_ma_gbif_ina_, test_size=0.3, random_state=42)\n",
    "df_val, df_K_test = train_test_split(df_K_temp, test_size=0.5, random_state=42)\n",
    "\n",
    "# Selecting Unknown classes using the mask and assigning 'mosquito' as the class label\n",
    "df_U = df_ma_gbif_ina[mask].copy()  # Use the mask to select unknown class data\n",
    "df_U = df_U.sample(n=450, random_state=42)\n",
    "df_U['class_label'] = ['mosquito'] * df_U.shape[0]\n",
    "\n",
    "# Combine the Test set of Known and Unknown classes\n",
    "df_test = pd.concat([df_K_test, df_U])\n",
    "df_test['class_label'].value_counts()\n",
    "\n",
    "path = '../data_round_2/Anno2_5'\n",
    "os.makedirs(path, exist_ok=True)\n",
    "\n",
    "train_path = path + '/train.csv'\n",
    "val_path = path + '/val.csv'\n",
    "test_path = path + '/test.csv'\n",
    "\n",
    "df_train.to_csv(train_path, index=False)\n",
    "df_test.to_csv(test_path, index=False)\n",
    "df_val.to_csv(val_path, index=False)"
   ]
  },
  {
   "cell_type": "code",
   "execution_count": null,
   "metadata": {},
   "outputs": [],
   "source": [
    "df_test.class_label.value_counts()"
   ]
  },
  {
   "cell_type": "markdown",
   "metadata": {},
   "source": [
    "## Anno 4: anopheles (full)"
   ]
  },
  {
   "cell_type": "code",
   "execution_count": 44,
   "metadata": {},
   "outputs": [],
   "source": [
    "# Train/Val/Test split for Known classes\n",
    "df_ma_gbif_ina_ = df_ma_gbif_ina_[df_ma_gbif_ina_['class_label']!='japonicus/koreicus']\n",
    "df_train, df_K_temp = train_test_split(df_ma_gbif_ina_, test_size=0.3, random_state=42)\n",
    "df_val, df_K_test = train_test_split(df_K_temp, test_size=0.5, random_state=42)\n",
    "\n",
    "# Selecting Unknown classes using the mask and assigning 'mosquito' as the class label\n",
    "df_U = df_ma_gbif_ina[mask].copy()  # Use the mask to select unknown class data\n",
    "df_U = df_U.sample(n=450, random_state=42)\n",
    "df_U['class_label'] = ['mosquito'] * df_U.shape[0]\n",
    "\n",
    "# Combine the Test set of Known and Unknown classes\n",
    "df_test = pd.concat([df_K_test, df_U])\n",
    "df_test['class_label'].value_counts()\n",
    "\n",
    "path = '../data_round_2/Anno4'\n",
    "os.makedirs(path, exist_ok=True)\n",
    "\n",
    "train_path = path + '/train.csv'\n",
    "val_path = path + '/val.csv'\n",
    "test_path = path + '/test.csv'\n",
    "\n",
    "df_train.to_csv(train_path, index=False)\n",
    "df_test.to_csv(test_path, index=False)\n",
    "df_val.to_csv(val_path, index=False)"
   ]
  },
  {
   "cell_type": "markdown",
   "metadata": {},
   "source": [
    "## Anno 3: japonicus/koreicus (lux full)"
   ]
  },
  {
   "cell_type": "code",
   "execution_count": null,
   "metadata": {},
   "outputs": [],
   "source": [
    "# Train/Val/Test split for Known classes\n",
    "df_train, df_K_temp = train_test_split(df_ma_gbif_ina_, test_size=0.3, random_state=42)\n",
    "df_val, df_K_test = train_test_split(df_K_temp, test_size=0.5, random_state=42)\n",
    "\n",
    "# Selecting Unknown classes using the mask and assigning 'mosquito' as the class label\n",
    "df_U = df_ma_gbif_ina[mask].copy()  # Use the mask to select unknown class data\n",
    "df_U = df_U.sample(n=450, random_state=42)\n",
    "df_U['class_label'] = ['mosquito'] * df_U.shape[0]\n",
    "\n",
    "# Combine the Test set of Known and Unknown classes\n",
    "df_test = pd.concat([df_K_test, df_U])\n",
    "df_test['class_label'].value_counts()"
   ]
  },
  {
   "cell_type": "code",
   "execution_count": 30,
   "metadata": {},
   "outputs": [],
   "source": [
    "path = '../data_round_2/Anno3'\n",
    "os.makedirs(path, exist_ok=True)\n",
    "\n",
    "train_path = path + '/train.csv'\n",
    "val_path = path + '/val.csv'\n",
    "test_path = path + '/test.csv'\n",
    "\n",
    "df_train.to_csv(train_path, index=False)\n",
    "df_test.to_csv(test_path, index=False)\n",
    "df_val.to_csv(val_path, index=False)"
   ]
  },
  {
   "cell_type": "code",
   "execution_count": null,
   "metadata": {},
   "outputs": [],
   "source": [
    "ina_df['img_fName']"
   ]
  },
  {
   "cell_type": "code",
   "execution_count": null,
   "metadata": {},
   "outputs": [],
   "source": [
    "from PIL import Image\n",
    "import matplotlib.pyplot as plt\n",
    "\n",
    "# Open an image file\n",
    "image_path = ina_df['img_fName'][0] # Replace with your image file path\n",
    "image = Image.open(image_path)\n",
    "\n",
    "# Convert the image to a format matplotlib can handle\n",
    "image_rgb = image.convert('RGB')\n",
    "\n",
    "# Plot the image using matplotlib\n",
    "plt.imshow(image_rgb)\n",
    "plt.axis('off')  # Hide axes\n",
    "plt.show()\n"
   ]
  },
  {
   "cell_type": "code",
   "execution_count": null,
   "metadata": {},
   "outputs": [],
   "source": [
    "should_stop = True\n",
    "\n",
    "if should_stop:\n",
    "    raise RuntimeError(\"Stop\")"
   ]
  },
  {
   "cell_type": "markdown",
   "metadata": {},
   "source": [
    "## Mask 1: Culiseta + Anopheles"
   ]
  },
  {
   "cell_type": "code",
   "execution_count": null,
   "metadata": {},
   "outputs": [],
   "source": [
    "mask1 = new_lux_df['class_label'].isin(['culiseta', 'anopheles'])\n",
    "df_K1 = new_lux_df[~mask1]\n",
    "df_K1['class_label'].value_counts()"
   ]
  },
  {
   "cell_type": "code",
   "execution_count": null,
   "metadata": {},
   "outputs": [],
   "source": [
    "# Train/Val/Test of Known\n",
    "df_train1, df_K_temp1 = train_test_split(df_K1, test_size=0.3, random_state=42)\n",
    "df_val1, df_K_test1 = train_test_split(df_K_temp1, test_size=0.35, random_state=42)\n",
    "\n",
    "# Unknown\n",
    "df_U1 = new_lux_df[mask1]\n",
    "df_U1.class_label = ['mosquito'] * df_U1.shape[0]\n",
    "\n",
    "# Test of Known and Unknown\n",
    "df_test1 = pd.concat([df_K_test1, df_U1])\n",
    "df_test1['class_label'].value_counts()"
   ]
  },
  {
   "cell_type": "code",
   "execution_count": 46,
   "metadata": {},
   "outputs": [],
   "source": [
    "path1 = '../data_round_2/mosAlert_new_annotation_1'\n",
    "os.makedirs(path1, exist_ok=True)\n",
    "\n",
    "train_path1 = path1 + '/train_annotation_1.csv'\n",
    "val_path1 = path1 + '/val_annotation_1.csv'\n",
    "test_path1 = path1 + '/test_annotation_1.csv'\n",
    "\n",
    "df_train1.to_csv(train_path1, index=False)\n",
    "df_test1.to_csv(test_path1, index=False)\n",
    "df_val1.to_csv(val_path1, index=False)"
   ]
  },
  {
   "cell_type": "markdown",
   "metadata": {},
   "source": [
    "## Mask 0: Without Lux1"
   ]
  },
  {
   "cell_type": "code",
   "execution_count": 49,
   "metadata": {},
   "outputs": [],
   "source": [
    "mask = new_df['class_label'].isin(['culiseta', 'anopheles'])\n",
    "df_K = new_df[~mask]"
   ]
  },
  {
   "cell_type": "code",
   "execution_count": null,
   "metadata": {},
   "outputs": [],
   "source": [
    "# Known\n",
    "df_train, df_K_temp = train_test_split(df_K, test_size=0.3, random_state=42)\n",
    "df_val, df_K_test = train_test_split(df_K_temp, test_size=0.35, random_state=42)\n",
    "\n",
    "# Unknown\n",
    "df_U = new_df[mask]\n",
    "df_U.class_label = ['mosquito'] * df_U.shape[0]\n",
    "\n",
    "# Test\n",
    "df_test = pd.concat([df_K_test, df_U])\n",
    "df_test['class_label'].value_counts()"
   ]
  },
  {
   "cell_type": "code",
   "execution_count": 51,
   "metadata": {},
   "outputs": [],
   "source": [
    "path = '../data_round_2/mosAlert_new_annotation_0'\n",
    "os.makedirs(path, exist_ok=True)\n",
    "\n",
    "train_path = path + '/train_annotation_0.csv'\n",
    "val_path = path + '/val_annotation_0.csv'\n",
    "test_path = path + '/test_annotation_0.csv'\n",
    "\n",
    "df_train.to_csv(train_path, index=False)\n",
    "df_test.to_csv(test_path, index=False)\n",
    "df_val.to_csv(val_path, index=False)"
   ]
  },
  {
   "cell_type": "markdown",
   "metadata": {},
   "source": [
    "## Mask 2: Aegypti + Anopheles"
   ]
  },
  {
   "cell_type": "code",
   "execution_count": 53,
   "metadata": {},
   "outputs": [],
   "source": [
    "mask2 = new_lux_df['class_label'].isin(['aegypti', 'anopheles'])\n",
    "df_K2 = new_lux_df[~mask2]"
   ]
  },
  {
   "cell_type": "code",
   "execution_count": null,
   "metadata": {},
   "outputs": [],
   "source": [
    "# Known\n",
    "df_train2, df_K_temp2 = train_test_split(df_K2, test_size=0.3, random_state=42)\n",
    "df_val2, df_K_test2 = train_test_split(df_K_temp2, test_size=0.35, random_state=42)\n",
    "\n",
    "# Unknown\n",
    "df_U2 = new_lux_df[mask2]\n",
    "df_U2.class_label = ['mosquito'] * df_U2.shape[0]\n",
    "\n",
    "# Test\n",
    "df_test2 = pd.concat([df_K_test2, df_U2])\n",
    "df_test2['class_label'].value_counts()"
   ]
  },
  {
   "cell_type": "code",
   "execution_count": 58,
   "metadata": {},
   "outputs": [],
   "source": [
    "path2 = '../data_round_2/mosAlert_new_annotation_2'\n",
    "os.makedirs(path2, exist_ok=True)\n",
    "\n",
    "train_path2 = path2 + '/train_annotation_2.csv'\n",
    "val_path2 = path2 + '/val_annotation_2.csv'\n",
    "test_path2 = path2 + '/test_annotation_2.csv'\n",
    "\n",
    "df_train2.to_csv(train_path2, index=False)\n",
    "df_test2.to_csv(test_path2, index=False)\n",
    "df_val2.to_csv(val_path2, index=False)"
   ]
  },
  {
   "cell_type": "markdown",
   "metadata": {},
   "source": [
    "## YOLO train-test"
   ]
  },
  {
   "cell_type": "code",
   "execution_count": 2,
   "metadata": {},
   "outputs": [],
   "source": [
    "anno_train = '../data_round_2/mosAlert_new_annotation_2/train_annotation_2.csv'\n",
    "anno_val = '../data_round_2/mosAlert_new_annotation_2/val_annotation_2.csv'\n",
    "anno_test = '../data_round_2/mosAlert_new_annotation_2/test_annotation_2.csv'\n",
    "\n",
    "df_tr = pd.read_csv(anno_train)\n",
    "df_v = pd.read_csv(anno_val)\n",
    "df_t = pd.read_csv(anno_test)"
   ]
  },
  {
   "cell_type": "code",
   "execution_count": 3,
   "metadata": {},
   "outputs": [],
   "source": [
    "df_tr = df_tr[~df_tr['img_fName'].str.startswith('../gbif-cropped')]\n",
    "df_v = df_v[~df_v['img_fName'].str.startswith('../gbif-cropped')]\n",
    "df_t = df_t[~df_t['img_fName'].str.startswith('../gbif-cropped')]"
   ]
  },
  {
   "cell_type": "code",
   "execution_count": 4,
   "metadata": {},
   "outputs": [],
   "source": [
    "pathyolo = '../data_round_2/yolo'\n",
    "os.makedirs(pathyolo, exist_ok=True)\n",
    "df_t.to_csv(pathyolo+'/test_yolo_ma.csv', index=False)\n",
    "df_tr.to_csv(pathyolo+'/train_yolo_ma.csv', index=False)\n",
    "df_v.to_csv(pathyolo+'/val_yolo_ma.csv', index=False)"
   ]
  },
  {
   "cell_type": "code",
   "execution_count": null,
   "metadata": {},
   "outputs": [],
   "source": [
    "df_K = df[df['class_label']!='mosquito']\n",
    "df_K.class_label.value_counts()"
   ]
  },
  {
   "cell_type": "code",
   "execution_count": null,
   "metadata": {},
   "outputs": [],
   "source": [
    "yolo_train_val, yolo_test = train_test_split(df_K, test_size=0.1, random_state=42)\n",
    "yolo_test.class_label.value_counts()"
   ]
  },
  {
   "cell_type": "code",
   "execution_count": 10,
   "metadata": {},
   "outputs": [],
   "source": [
    "pathyolo = '../data_round_2/yolo'\n",
    "os.makedirs(pathyolo, exist_ok=True)"
   ]
  },
  {
   "cell_type": "code",
   "execution_count": 12,
   "metadata": {},
   "outputs": [],
   "source": [
    "yolo_test.to_csv(pathyolo+'/test_yolo.csv', index=False)\n",
    "yolo_train_val.to_csv(pathyolo+'/train_val_yolo.csv', index=False)"
   ]
  },
  {
   "cell_type": "markdown",
   "metadata": {},
   "source": [
    "# Double check"
   ]
  },
  {
   "cell_type": "code",
   "execution_count": null,
   "metadata": {},
   "outputs": [],
   "source": [
    "df_train['class_label'].value_counts()"
   ]
  },
  {
   "cell_type": "code",
   "execution_count": null,
   "metadata": {},
   "outputs": [],
   "source": [
    "df_train1['class_label'].value_counts()"
   ]
  },
  {
   "cell_type": "code",
   "execution_count": null,
   "metadata": {},
   "outputs": [],
   "source": [
    "df_train2['class_label'].value_counts()"
   ]
  },
  {
   "cell_type": "code",
   "execution_count": null,
   "metadata": {},
   "outputs": [],
   "source": [
    "df_val['class_label'].value_counts()"
   ]
  },
  {
   "cell_type": "code",
   "execution_count": null,
   "metadata": {},
   "outputs": [],
   "source": [
    "df_val1['class_label'].value_counts()"
   ]
  },
  {
   "cell_type": "code",
   "execution_count": null,
   "metadata": {},
   "outputs": [],
   "source": [
    "df_val2['class_label'].value_counts()"
   ]
  },
  {
   "cell_type": "code",
   "execution_count": null,
   "metadata": {},
   "outputs": [],
   "source": [
    "df_test['class_label'].value_counts()"
   ]
  },
  {
   "cell_type": "code",
   "execution_count": null,
   "metadata": {},
   "outputs": [],
   "source": [
    "df_test1['class_label'].value_counts()"
   ]
  },
  {
   "cell_type": "code",
   "execution_count": null,
   "metadata": {},
   "outputs": [],
   "source": [
    "df_test2['class_label'].value_counts()"
   ]
  },
  {
   "cell_type": "code",
   "execution_count": null,
   "metadata": {},
   "outputs": [],
   "source": [
    "new_lux_df"
   ]
  }
 ],
 "metadata": {
  "kernelspec": {
   "display_name": "yolo",
   "language": "python",
   "name": "python3"
  },
  "language_info": {
   "codemirror_mode": {
    "name": "ipython",
    "version": 3
   },
   "file_extension": ".py",
   "mimetype": "text/x-python",
   "name": "python",
   "nbconvert_exporter": "python",
   "pygments_lexer": "ipython3",
   "version": "3.12.4"
  }
 },
 "nbformat": 4,
 "nbformat_minor": 2
}
