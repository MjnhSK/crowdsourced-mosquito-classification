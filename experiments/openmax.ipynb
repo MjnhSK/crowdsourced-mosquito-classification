{
 "cells": [
  {
   "cell_type": "code",
   "execution_count": 1,
   "metadata": {},
   "outputs": [
    {
     "name": "stderr",
     "output_type": "stream",
     "text": [
      "INFO:albumentations.check_version:A new version of Albumentations is available: 1.4.16 (you have 1.4.11). Upgrade using: pip install --upgrade albumentations\n"
     ]
    }
   ],
   "source": [
    "import numpy as np\n",
    "import pandas as pd\n",
    "from src.experiments import ExperimentMosquitoClassifier\n",
    "from sklearn.metrics import classification_report\n",
    "import src.classification as lc\n",
    "from openmax.confusion_matrix_jhu import *\n",
    "from sklearn.metrics import accuracy_score, f1_score\n",
    "from openmax.openmax import OpenMaxYOLOCLIP\n",
    "import torch\n",
    "from openmax.openmax import create_model\n",
    "\n",
    "USE_CHANNEL_LAST = False\n",
    "DATASET = \"laion\"\n",
    "DEVICE = \"cuda:0\"\n",
    "PRESERVE_ASPECT_RATIO = False\n",
    "SHIFT = 0\n",
    "\n",
    "\n",
    "FOLD = \"FINAL\"\n",
    "\n",
    "yolo_path = \"./yolo/runs/detect/train_4class_noGbif/weights/best.pt\"\n",
    "\n",
    "clip_model_path = './checkpoints/CLIP_anno2_FINAL/epoch=13-val_loss=0.5767459869384766-val_f1_score=0.9142367839813232-val_multiclass_accuracy=0.9027796387672424.ckpt'\n",
    "\n",
    "# for openmax and testing\n",
    "CLASS_DICT = {\n",
    "    \"albopictus\"        : torch.tensor(0, dtype=torch.float),\n",
    "    \"culex\"             : torch.tensor(1, dtype=torch.float),\n",
    "    \"japonicus/koreicus\": torch.tensor(2, dtype=torch.float),\n",
    "    \"culiseta\"          : torch.tensor(3, dtype=torch.float),\n",
    "}\n",
    "\n",
    "\n",
    "class_dict = {\n",
    "    \"albopictus\"        : torch.tensor(0, dtype=torch.float),\n",
    "    \"culex\"             : torch.tensor(1, dtype=torch.float),\n",
    "    \"japonicus/koreicus\": torch.tensor(2, dtype=torch.float),\n",
    "    \"culiseta\"          : torch.tensor(3, dtype=torch.float),\n",
    "    \"mosquito\"          : torch.tensor(4, dtype=torch.float)\n",
    "}  \n",
    "\n",
    "LABELS = [0, 1, 2, 3]"
   ]
  },
  {
   "cell_type": "code",
   "execution_count": 2,
   "metadata": {},
   "outputs": [
    {
     "name": "stderr",
     "output_type": "stream",
     "text": [
      "/home/pc2/miniconda3/envs/yolo/lib/python3.12/site-packages/pydantic/main.py:364: UserWarning: Pydantic serializer warnings:\n",
      "  Expected `Union[float, tuple[float, float]]` but got `list` - serialized value may not be as expected\n",
      "  Expected `Union[float, tuple[float, float]]` but got `list` - serialized value may not be as expected\n",
      "  Expected `Union[float, tuple[float, float]]` but got `list` - serialized value may not be as expected\n",
      "  return self.__pydantic_serializer__.to_python(\n",
      "/home/pc2/miniconda3/envs/yolo/lib/python3.12/site-packages/pydantic/main.py:364: UserWarning: Pydantic serializer warnings:\n",
      "  Expected `Union[float, tuple[float, float]]` but got `list` - serialized value may not be as expected\n",
      "  Expected `Union[float, tuple[float, float]]` but got `list` - serialized value may not be as expected\n",
      "  Expected `Union[float, tuple[float, float]]` but got `list` - serialized value may not be as expected\n",
      "  return self.__pydantic_serializer__.to_python(\n"
     ]
    }
   ],
   "source": [
    "dataset = 'datacomp_xl_s13b_b90k'\n",
    "aug = 'hca'\n",
    "bs = 16\n",
    "img_size = (224, 224)\n",
    "shift_box = False\n",
    "\n",
    "img_dir = \"\" \n",
    "\n",
    "val_annotations_csv = \"../data_round_2/mosAlert_new_annotation_2/val_annotation_2.csv\"\n",
    "train_annotations_csv = \"../data_round_2/mosAlert_new_annotation_2/train_annotation_2.csv\"\n",
    "test_annotations_csv = \"../data_round_2/mosAlert_new_annotation_2/test_annotation_2.csv\"\n",
    "\n",
    "train_df = pd.read_csv(train_annotations_csv)\n",
    "\n",
    "train_df[\"img_fName\"] = img_dir + train_df[\"img_fName\"]\n",
    "\n",
    "\n",
    "val_df = pd.read_csv(val_annotations_csv)\n",
    "test_df = pd.read_csv(test_annotations_csv)\n",
    "test_df = test_df.sample(frac=1).reset_index(drop=True) \n",
    "\n",
    "train_dataloader, _, _ = ExperimentMosquitoClassifier(\".\", \"\",\n",
    "                                                       class_dict=CLASS_DICT,\n",
    "                                                       class_dict_test=class_dict).get_dataloaders(\n",
    "    train_df,\n",
    "    val_df,\n",
    "    test_df,\n",
    "    dataset,\n",
    "    aug,\n",
    "    bs,\n",
    "    img_size,\n",
    "    shift_box,\n",
    ")\n",
    "\n",
    "_, val_dataloader, test_dataloader = ExperimentMosquitoClassifier(img_dir, \"\",\n",
    "                                                       class_dict=CLASS_DICT,\n",
    "                                                       class_dict_test=class_dict).get_dataloaders(\n",
    "    train_df,\n",
    "    val_df,\n",
    "    test_df,\n",
    "    dataset,\n",
    "    aug,\n",
    "    bs,\n",
    "    img_size,\n",
    "    shift_box,\n",
    ")"
   ]
  },
  {
   "cell_type": "code",
   "execution_count": 6,
   "metadata": {},
   "outputs": [
    {
     "name": "stdout",
     "output_type": "stream",
     "text": [
      "torch.Size([16, 3, 224, 224])\n",
      "tensor([1., 1., 0., 4., 1., 3., 1., 1., 1., 1., 1., 1., 0., 0., 1., 1.])\n"
     ]
    }
   ],
   "source": [
    "for batch in test_dataloader:\n",
    "    print(batch[0].shape)\n",
    "    print(batch[1])\n",
    "    break\n",
    "    "
   ]
  },
  {
   "cell_type": "code",
   "execution_count": 7,
   "metadata": {},
   "outputs": [
    {
     "name": "stdout",
     "output_type": "stream",
     "text": [
      "torch.Size([16, 3, 224, 224])\n",
      "tensor([0., 3., 2., 3., 3., 2., 3., 1., 2., 2., 2., 2., 2., 0., 3., 3.])\n"
     ]
    }
   ],
   "source": [
    "for batch in train_dataloader:\n",
    "    print(batch[0].shape)\n",
    "    print(batch[1])\n",
    "    break"
   ]
  },
  {
   "cell_type": "code",
   "execution_count": 10,
   "metadata": {},
   "outputs": [
    {
     "name": "stderr",
     "output_type": "stream",
     "text": [
      "INFO:root:Loaded ViT-L-14 model config.\n",
      "INFO:root:Loading pretrained ViT-L-14 weights (datacomp_xl_s13b_b90k).\n"
     ]
    }
   ],
   "source": [
    "model = lc.MosquitoClassifier.load_from_checkpoint(\n",
    "            clip_model_path, head_version=7, map_location=torch.device(DEVICE)\n",
    "        ).eval()"
   ]
  },
  {
   "cell_type": "code",
   "execution_count": 11,
   "metadata": {},
   "outputs": [
    {
     "name": "stdout",
     "output_type": "stream",
     "text": [
      "torch.Size([16, 3, 224, 224])\n",
      "(16,)\n"
     ]
    }
   ],
   "source": [
    "for data in train_dataloader:\n",
    "    print(data[0].shape)\n",
    "    print(data[1].cpu().numpy().shape)\n",
    "    break"
   ]
  },
  {
   "cell_type": "code",
   "execution_count": 12,
   "metadata": {},
   "outputs": [
    {
     "name": "stdout",
     "output_type": "stream",
     "text": [
      "Weibull model already fitted, fetching at weibull_models/weibull_model_anno2_FINAL.pkl\n"
     ]
    },
    {
     "data": {
      "text/plain": [
       "{0: {'mean': array([     1.6103,    -0.19487,    -0.13851,    -0.18375], dtype=float32),\n",
       "  'weibull_model': <MR object: '1.059515682326926278023e+00 2.528970506670989948361e+01  1.110785154566392263220e+00 1.010612607201166301962e+00 5.308869516491136408831e+01 1.204718218020719611161e+01  1 5.000000000000000000000e+00 1 20 1 3.003671006485271188780e-01 0\\n'>},\n",
       " 1: {'mean': array([  -0.044571,      1.6942,    -0.12836,   -0.075569], dtype=float32),\n",
       "  'weibull_model': <MR object: '1.072644122228541441189e+00 2.304203062019112735470e+01  1.129739396137135143405e+00 1.018434354759613080788e+00 5.084703447724300673372e+01 1.044181200654779573256e+01  1 5.000000000000000000000e+00 1 20 1 2.589782204604336723897e-01 0\\n'>},\n",
       " 2: {'mean': array([   -0.14513,    -0.28494,      1.5234,    -0.30436], dtype=float32),\n",
       "  'weibull_model': <MR object: '1.133124652203623794477e+00 1.224330556508417799932e+01  1.249246421315067356872e+00 1.027796802555544841695e+00 2.633581997992844137002e+01 5.691811808945564266082e+00  1 5.000000000000000000000e+00 1 20 1 2.410744007150680545681e-01 0\\n'>},\n",
       " 3: {'mean': array([  -0.089739,   -0.022656,    -0.12648,      1.7156], dtype=float32),\n",
       "  'weibull_model': <MR object: '1.064134334385135272072e+00 2.288118529724980376727e+01  1.121210251210512653941e+00 1.009963903197210743912e+00 4.944642986530703154813e+01 1.058819902737642237867e+01  1 5.000000000000000000000e+00 1 20 1 2.615707182747674663936e-01 0\\n'>}}"
      ]
     },
     "execution_count": 12,
     "metadata": {},
     "output_type": "execute_result"
    }
   ],
   "source": [
    "model.eval()\n",
    "\n",
    "create_model(\n",
    "    net=model,\n",
    "    dataloader=train_dataloader,\n",
    "    fold = FOLD,\n",
    "    labels=LABELS,\n",
    "    tailsize=20\n",
    ")"
   ]
  },
  {
   "cell_type": "markdown",
   "metadata": {},
   "source": [
    "### test closed set only, and then open"
   ]
  },
  {
   "cell_type": "markdown",
   "metadata": {},
   "source": [
    "Wanna test on 4 classes only."
   ]
  },
  {
   "cell_type": "code",
   "execution_count": 13,
   "metadata": {},
   "outputs": [
    {
     "data": {
      "text/plain": [
       "class_label\n",
       "culex                 634\n",
       "albopictus            516\n",
       "mosquito              356\n",
       "culiseta               96\n",
       "japonicus/koreicus     54\n",
       "Name: count, dtype: int64"
      ]
     },
     "execution_count": 13,
     "metadata": {},
     "output_type": "execute_result"
    }
   ],
   "source": [
    "test_df[\"class_label\"].value_counts()"
   ]
  },
  {
   "cell_type": "code",
   "execution_count": 14,
   "metadata": {},
   "outputs": [
    {
     "data": {
      "text/plain": [
       "class_label\n",
       "culex                 634\n",
       "albopictus            516\n",
       "culiseta               96\n",
       "japonicus/koreicus     54\n",
       "Name: count, dtype: int64"
      ]
     },
     "execution_count": 14,
     "metadata": {},
     "output_type": "execute_result"
    }
   ],
   "source": [
    "closed_test = test_df[test_df[\"class_label\"] != \"mosquito\"]\n",
    "closed_test[\"class_label\"].value_counts()"
   ]
  },
  {
   "cell_type": "code",
   "execution_count": 15,
   "metadata": {},
   "outputs": [
    {
     "name": "stderr",
     "output_type": "stream",
     "text": [
      "/home/pc2/miniconda3/envs/yolo/lib/python3.12/site-packages/pydantic/main.py:364: UserWarning: Pydantic serializer warnings:\n",
      "  Expected `Union[float, tuple[float, float]]` but got `list` - serialized value may not be as expected\n",
      "  Expected `Union[float, tuple[float, float]]` but got `list` - serialized value may not be as expected\n",
      "  Expected `Union[float, tuple[float, float]]` but got `list` - serialized value may not be as expected\n",
      "  return self.__pydantic_serializer__.to_python(\n"
     ]
    }
   ],
   "source": [
    "_, _, closed_test_dl = ExperimentMosquitoClassifier(img_dir, \"\",\n",
    "                                                    class_dict=CLASS_DICT,\n",
    "                                                    class_dict_test=class_dict).get_dataloaders(\n",
    "    train_df,\n",
    "    val_df,\n",
    "    closed_test,\n",
    "    dataset,\n",
    "    aug,\n",
    "    bs,\n",
    "    img_size,\n",
    "    shift_box,\n",
    ")"
   ]
  },
  {
   "cell_type": "code",
   "execution_count": 16,
   "metadata": {},
   "outputs": [],
   "source": [
    "device = torch.device('cuda:0')\n",
    "\n",
    "def extract_labels(dataloader):\n",
    "    labels_list = []\n",
    "    \n",
    "    for _, labels in dataloader:\n",
    "        labels_list.append(labels.numpy())\n",
    "    \n",
    "    all_labels = np.concatenate(labels_list)\n",
    "    return all_labels\n",
    "\n",
    "def test(model, dl):\n",
    "    '''Test acc model on dataloader'''\n",
    "\n",
    "    model.eval()\n",
    "    \n",
    "    correct = 0\n",
    "    total = 0\n",
    "    y_true = []\n",
    "    y_pred = []\n",
    "    with torch.no_grad():  # Disable gradient calculation\n",
    "        for data in dl:\n",
    "            x, y = data\n",
    "            x, y = x.to(device), y.to(device)\n",
    "            \n",
    "            y_h = model(x)\n",
    "            # print(y_h)\n",
    "            _, y_p = torch.max(y_h.data, 1)\n",
    "            \n",
    "            total += y.size(0)\n",
    "            # print(y_p.shape)\n",
    "            # print(y.shape)\n",
    "            correct += (y_p == y).sum().item()\n",
    "            y_true.extend(y.cpu().numpy())\n",
    "            y_pred.extend(y_p.cpu().numpy())\n",
    "\n",
    "    print(classification_report(y_true, y_pred))\n",
    "            \n",
    "    return correct / total\n",
    "\n",
    "\n",
    "def macro_f1(model, dataloader, device):\n",
    "    model.eval()  # Set the model to evaluation mode\n",
    "    \n",
    "    all_preds = []\n",
    "    all_labels = []\n",
    "    \n",
    "    with torch.no_grad():  # Disable gradient calculation\n",
    "        for data in dataloader:\n",
    "            inputs, labels = data\n",
    "            inputs, labels = inputs.to(device), labels.to(device)\n",
    "            \n",
    "            outputs = model(inputs)\n",
    "            _, preds = torch.max(outputs, 1)\n",
    "            \n",
    "            all_preds.extend(preds.cpu().numpy())\n",
    "            all_labels.extend(labels.cpu().numpy())\n",
    "    \n",
    "    # Calculate the macro F1 score\n",
    "    macro_f1 = f1_score(all_labels, all_preds, average='macro')\n",
    "    return macro_f1"
   ]
  },
  {
   "cell_type": "code",
   "execution_count": 17,
   "metadata": {},
   "outputs": [
    {
     "name": "stderr",
     "output_type": "stream",
     "text": [
      "INFO:root:Loaded ViT-L-14 model config.\n",
      "INFO:root:Loading pretrained ViT-L-14 weights (datacomp_xl_s13b_b90k).\n"
     ]
    },
    {
     "name": "stdout",
     "output_type": "stream",
     "text": [
      "Fitting weibull models...\n",
      "Weibull model already fitted, fetching at weibull_models/weibull_model_anno2_FINAL.pkl\n"
     ]
    }
   ],
   "source": [
    "\n",
    "open_model = OpenMaxYOLOCLIP(\n",
    "    yolo_path=yolo_path,\n",
    "    clip_path=clip_model_path,\n",
    "    train_dl=train_dataloader,\n",
    "    fold=FOLD,\n",
    "    alpha_rank=4,\n",
    "    tailsize=20,\n",
    "    n_class=4,\n",
    ")\n",
    "\n",
    "# open_model = OpenMaxYOLOXception(\n",
    "#     yolo_path=yolo_path,\n",
    "#     xception_path=xception_path,\n",
    "#     train_dl=train_dataloader,\n",
    "#     fold=FOLD,\n",
    "#     alpha_rank=4,\n",
    "#     tailsize=20,\n",
    "#     n_class=4,\n",
    "# )\n"
   ]
  },
  {
   "cell_type": "code",
   "execution_count": 18,
   "metadata": {},
   "outputs": [],
   "source": [
    "_, threshold = open_model.compute(train_dataloader)"
   ]
  },
  {
   "cell_type": "code",
   "execution_count": 19,
   "metadata": {},
   "outputs": [
    {
     "data": {
      "text/plain": [
       "0.12381241105341624"
      ]
     },
     "execution_count": 19,
     "metadata": {},
     "output_type": "execute_result"
    }
   ],
   "source": [
    "threshold"
   ]
  },
  {
   "cell_type": "code",
   "execution_count": 20,
   "metadata": {},
   "outputs": [],
   "source": [
    "#stop"
   ]
  },
  {
   "cell_type": "markdown",
   "metadata": {},
   "source": [
    "### No Openmax Model, Closed set"
   ]
  },
  {
   "cell_type": "code",
   "execution_count": 21,
   "metadata": {},
   "outputs": [
    {
     "name": "stdout",
     "output_type": "stream",
     "text": [
      "              precision    recall  f1-score   support\n",
      "\n",
      "         0.0       0.98      0.99      0.98       516\n",
      "         1.0       0.98      0.98      0.98       634\n",
      "         2.0       0.98      0.78      0.87        54\n",
      "         3.0       0.85      0.88      0.86        96\n",
      "\n",
      "    accuracy                           0.97      1300\n",
      "   macro avg       0.94      0.91      0.92      1300\n",
      "weighted avg       0.97      0.97      0.97      1300\n",
      "\n"
     ]
    },
    {
     "data": {
      "text/plain": [
       "0.9669230769230769"
      ]
     },
     "execution_count": 21,
     "metadata": {},
     "output_type": "execute_result"
    }
   ],
   "source": [
    "test(model, closed_test_dl) #closed"
   ]
  },
  {
   "cell_type": "code",
   "execution_count": 22,
   "metadata": {},
   "outputs": [
    {
     "data": {
      "text/plain": [
       "0.9220746694990899"
      ]
     },
     "execution_count": 22,
     "metadata": {},
     "output_type": "execute_result"
    }
   ],
   "source": [
    "macro_f1(model, closed_test_dl, device='cuda:0')"
   ]
  },
  {
   "cell_type": "code",
   "execution_count": 23,
   "metadata": {},
   "outputs": [],
   "source": [
    "# np.unique(y_t)"
   ]
  },
  {
   "cell_type": "markdown",
   "metadata": {},
   "source": [
    "### Openmax Model, Closed set"
   ]
  },
  {
   "cell_type": "code",
   "execution_count": 24,
   "metadata": {},
   "outputs": [
    {
     "name": "stdout",
     "output_type": "stream",
     "text": [
      "thres:  0.10818563050329334\n",
      "              precision    recall  f1-score   support\n",
      "\n",
      "         0.0       0.99      0.94      0.96       516\n",
      "         1.0       0.99      0.86      0.92       634\n",
      "         2.0       1.00      0.28      0.43        54\n",
      "         3.0       0.99      0.69      0.81        96\n",
      "         4.0       0.00      0.00      0.00         0\n",
      "\n",
      "    accuracy                           0.86      1300\n",
      "   macro avg       0.79      0.55      0.63      1300\n",
      "weighted avg       0.99      0.86      0.91      1300\n",
      "\n"
     ]
    },
    {
     "name": "stderr",
     "output_type": "stream",
     "text": [
      "/home/pc2/miniconda3/envs/yolo/lib/python3.12/site-packages/sklearn/metrics/_classification.py:1531: UndefinedMetricWarning: Recall is ill-defined and being set to 0.0 in labels with no true samples. Use `zero_division` parameter to control this behavior.\n",
      "  _warn_prf(average, modifier, f\"{metric.capitalize()} is\", len(result))\n",
      "/home/pc2/miniconda3/envs/yolo/lib/python3.12/site-packages/sklearn/metrics/_classification.py:1531: UndefinedMetricWarning: Recall is ill-defined and being set to 0.0 in labels with no true samples. Use `zero_division` parameter to control this behavior.\n",
      "  _warn_prf(average, modifier, f\"{metric.capitalize()} is\", len(result))\n",
      "/home/pc2/miniconda3/envs/yolo/lib/python3.12/site-packages/sklearn/metrics/_classification.py:1531: UndefinedMetricWarning: Recall is ill-defined and being set to 0.0 in labels with no true samples. Use `zero_division` parameter to control this behavior.\n",
      "  _warn_prf(average, modifier, f\"{metric.capitalize()} is\", len(result))\n"
     ]
    }
   ],
   "source": [
    "\n",
    "y_p = open_model.predict(closed_test_dl)\n",
    "y_t = extract_labels(closed_test_dl)\n",
    "\n",
    "print(classification_report(y_t, y_p))"
   ]
  },
  {
   "cell_type": "code",
   "execution_count": 25,
   "metadata": {},
   "outputs": [
    {
     "data": {
      "text/plain": [
       "0.6257301368371839"
      ]
     },
     "execution_count": 25,
     "metadata": {},
     "output_type": "execute_result"
    }
   ],
   "source": [
    "f1_score(y_true=y_t, y_pred=y_p, average='macro')"
   ]
  },
  {
   "cell_type": "code",
   "execution_count": 26,
   "metadata": {},
   "outputs": [],
   "source": [
    "# f1_score(y_true=y_t, y_pred=y_p, average='micro')"
   ]
  },
  {
   "cell_type": "markdown",
   "metadata": {},
   "source": [
    "### No Openmax Model, Open-set (doesnt mean anything as it cannot classify unknown anyway)"
   ]
  },
  {
   "cell_type": "code",
   "execution_count": 27,
   "metadata": {},
   "outputs": [
    {
     "name": "stdout",
     "output_type": "stream",
     "text": [
      "thres:  0.10843193192615654\n"
     ]
    }
   ],
   "source": [
    "y_p = open_model.predict(test_dataloader)\n",
    "y_t = extract_labels(test_dataloader)"
   ]
  },
  {
   "cell_type": "markdown",
   "metadata": {},
   "source": [
    "### Openmax Model, Open set"
   ]
  },
  {
   "cell_type": "code",
   "execution_count": 28,
   "metadata": {},
   "outputs": [
    {
     "name": "stdout",
     "output_type": "stream",
     "text": [
      "              precision    recall  f1-score   support\n",
      "\n",
      "         0.0       0.80      0.95      0.87       516\n",
      "         1.0       0.95      0.87      0.90       634\n",
      "         2.0       1.00      0.30      0.46        54\n",
      "         3.0       0.72      0.70      0.71        96\n",
      "         4.0       0.54      0.54      0.54       356\n",
      "\n",
      "    accuracy                           0.79      1656\n",
      "   macro avg       0.80      0.67      0.70      1656\n",
      "weighted avg       0.80      0.79      0.79      1656\n",
      "\n"
     ]
    }
   ],
   "source": [
    "print(classification_report(y_t, y_p))"
   ]
  },
  {
   "cell_type": "code",
   "execution_count": 32,
   "metadata": {},
   "outputs": [
    {
     "name": "stdout",
     "output_type": "stream",
     "text": [
      "Normalized confusion matrix\n",
      "Avg Acc 0.6697442221399148\n"
     ]
    },
    {
     "data": {
      "text/plain": [
       "<Axes: title={'center': 'Normalized confusion matrix'}, xlabel='Predicted label', ylabel='True label'>"
      ]
     },
     "execution_count": 32,
     "metadata": {},
     "output_type": "execute_result"
    },
    {
     "data": {
      "image/png": "[encoded data removed]",
      "text/plain": [
       "<Figure size 1200x1200 with 2 Axes>"
      ]
     },
     "metadata": {},
     "output_type": "display_data"
    }
   ],
   "source": [
    "\n",
    "\n",
    "\n",
    "species_list = [\"albopictus\",\"culex\",\"japonicus/koreicus\", \"culiseta\", \"mosquito\"]\n",
    "plot_pretty_blue_confusion_matrix(classes=species_list,\n",
    "                                  y_true = y_t.tolist(), y_pred=y_p.tolist(),\n",
    "                                  normalize=True,  \n",
    "                                  savepath='confusion_matrix_jhu',\n",
    "                                  figsize=(12,12))"
   ]
  }
 ],
 "metadata": {
  "kernelspec": {
   "display_name": "yolo",
   "language": "python",
   "name": "python3"
  },
  "language_info": {
   "codemirror_mode": {
    "name": "ipython",
    "version": 3
   },
   "file_extension": ".py",
   "mimetype": "text/x-python",
   "name": "python",
   "nbconvert_exporter": "python",
   "pygments_lexer": "ipython3",
   "version": "3.12.4"
  }
 },
 "nbformat": 4,
 "nbformat_minor": 2
}
