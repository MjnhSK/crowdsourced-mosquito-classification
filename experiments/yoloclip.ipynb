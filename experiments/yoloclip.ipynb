{
 "cells": [
  {
   "cell_type": "markdown",
   "metadata": {},
   "source": [
    "## Full pipeline"
   ]
  },
  {
   "cell_type": "code",
   "execution_count": null,
   "metadata": {},
   "outputs": [],
   "source": [
    "import numpy as np\n",
    "import pandas as pd\n",
    "import torch as th\n",
    "from src.experiments import ExperimentMosquitoClassifier\n",
    "from openmax.openmax import OpenMaxYOLOCLIP\n",
    "import src.data_loader as dl\n",
    "from ultralytics import YOLO\n",
    "from openmax.clf_utils import calculate_iou, prep_x, get_bbox\n",
    "\n",
    "IMG_SIZE = (224, 224)\n",
    "USE_CHANNEL_LAST = False\n",
    "DATASET = \"laion\"\n",
    "DEVICE = \"cuda:0\"\n",
    "PRESERVE_ASPECT_RATIO = False\n",
    "SHIFT = 0\n",
    "\n",
    "yolo_path = \"./yolo/runs/detect/train_4class_noGbif/weights/best.pt\"\n",
    "\n",
    "FOLD = \"anno2_FINAL\"\n",
    "\n",
    "\n",
    "clip_model_path = './checkpoints/CLIP_anno2/epoch=6-val_loss=0.5844640731811523-val_f1_score=0.9127286076545715-val_multiclass_accuracy=0.9220854043960571.ckpt'\n",
    "\n",
    "# for openset\n",
    "CLASS_DICT = {\n",
    "    \"albopictus\": th.tensor(0, dtype=th.float),\n",
    "    \"culex\": th.tensor(1, dtype=th.float),\n",
    "    \"japonicus/koreicus\": th.tensor(2, dtype=th.float),\n",
    "    \"culiseta\": th.tensor(3, dtype=th.float),\n",
    "}\n",
    "\n",
    "class_dict = {\n",
    "\"albopictus\": th.tensor(0, dtype=th.float),\n",
    "\"culex\": th.tensor(1, dtype=th.float),\n",
    "\"japonicus/koreicus\": th.tensor(2, dtype=th.float),\n",
    "\"culiseta\": th.tensor(3, dtype=th.float),\n",
    "\"mosquito\": th.tensor(4, dtype=th.float)\n",
    "} \n",
    "\n",
    "# CLASS_DICT = {\n",
    "#     \"albopictus\":           th.tensor(0, dtype=th.float),\n",
    "#     \"culex\":                th.tensor(1, dtype=th.float),\n",
    "#     \"japonicus/koreicus\":   th.tensor(2, dtype=th.float),\n",
    "#     \"culiseta\":             th.tensor(3, dtype=th.float),\n",
    "#     \"aegypti\":              th.tensor(4, dtype=th.float),\n",
    "#     \"anopheles\":            th.tensor(5, dtype=th.float),\n",
    "# }\n",
    "\n",
    "# class_dict = {\n",
    "#     \"albopictus\":           th.tensor(0, dtype=th.float),\n",
    "#     \"culex\":                th.tensor(1, dtype=th.float),\n",
    "#     \"japonicus/koreicus\":   th.tensor(2, dtype=th.float),\n",
    "#     \"culiseta\":             th.tensor(3, dtype=th.float),\n",
    "#     \"aegypti\":              th.tensor(4, dtype=th.float),\n",
    "#     \"anopheles\":            th.tensor(5, dtype=th.float),\n",
    "#     # \"mosquito\":             th.tensor(4, dtype=th.float)\n",
    "# } "
   ]
  },
  {
   "cell_type": "code",
   "execution_count": null,
   "metadata": {},
   "outputs": [],
   "source": [
    "dataset = 'datacomp_xl_s13b_b90k'\n",
    "aug = 'hca'\n",
    "bs = 16\n",
    "# img_size = (299, 299) \n",
    "img_size = (224, 224)\n",
    "shift_box = False\n",
    "\n",
    "img_dir = \"\" \n",
    "\n",
    "# # New annotation for new mos alert partition\n",
    "# val_annotations_csv = \"../data_round_2/closedSet/val.csv\"\n",
    "# train_annotations_csv = \"../data_round_2/closedSet/train.csv\"\n",
    "# test_annotations_csv = \"../data_round_2/closedSet/test.csv\"\n",
    "\n",
    "val_annotations_csv = \"../data_round_2/mosAlert_new_annotation_2/val_annotation_2.csv\"\n",
    "train_annotations_csv = \"../data_round_2/mosAlert_new_annotation_2/train_annotation_2.csv\"\n",
    "test_annotations_csv = \"../data_round_2/mosAlert_new_annotation_2/test_annotation_2.csv\"\n",
    "\n",
    "train_df = pd.read_csv(train_annotations_csv)\n",
    "\n",
    "train_df[\"img_fName\"] = img_dir + train_df[\"img_fName\"]\n",
    "\n",
    "\n",
    "val_df = pd.read_csv(val_annotations_csv)\n",
    "test_df = pd.read_csv(test_annotations_csv)\n",
    "test_df = test_df.sample(frac=1).reset_index(drop=True)\n",
    "\n",
    "\n",
    "train_dataloader, _, _ = ExperimentMosquitoClassifier(\".\", \"\",\n",
    "                                                       class_dict=CLASS_DICT,\n",
    "                                                       class_dict_test=class_dict).get_dataloaders(\n",
    "    train_df,\n",
    "    val_df,\n",
    "    test_df,\n",
    "    dataset,\n",
    "    aug,\n",
    "    bs,\n",
    "    img_size,\n",
    "    shift_box,\n",
    ")\n",
    "\n",
    "_, val_dataloader, _ = ExperimentMosquitoClassifier(img_dir, \"\",\n",
    "                                                       class_dict=CLASS_DICT,\n",
    "                                                       class_dict_test=class_dict).get_dataloaders(\n",
    "    train_df,\n",
    "    val_df,\n",
    "    test_df,\n",
    "    dataset,\n",
    "    aug,\n",
    "    bs,\n",
    "    img_size,\n",
    "    shift_box,\n",
    ")"
   ]
  },
  {
   "cell_type": "code",
   "execution_count": 4,
   "metadata": {},
   "outputs": [],
   "source": [
    "closed_test = test_df[test_df[\"class_label\"] != \"mosquito\"]\n",
    "closed_test_dl = dl.TestYOLOCLIPDataset(annotations_df=closed_test, \n",
    "                                  class_dict=class_dict,\n",
    "                                  img_dir=img_dir,\n",
    "                                  )\n",
    "\n",
    "# create test set from dl\n",
    "test_set = dl.TestYOLOCLIPDataset(annotations_df=test_df, \n",
    "                                  class_dict=class_dict,\n",
    "                                  img_dir=img_dir,\n",
    "                                  )"
   ]
  },
  {
   "cell_type": "code",
   "execution_count": null,
   "metadata": {},
   "outputs": [],
   "source": [
    "# santiy check test set\n",
    "for i in test_set:\n",
    "    print(i[2])\n",
    "    break"
   ]
  },
  {
   "cell_type": "code",
   "execution_count": null,
   "metadata": {},
   "outputs": [],
   "source": [
    "yolo_model = YOLO(\n",
    "    yolo_path,\n",
    "    task=\"detect\",\n",
    ")\n",
    "\n",
    "open_model = OpenMaxYOLOCLIP(\n",
    "    yolo_path=yolo_path,\n",
    "    clip_path=clip_model_path,\n",
    "    train_dl=train_dataloader,\n",
    "    fold=FOLD,\n",
    "    alpha_rank=4,\n",
    "    tailsize=20,\n",
    "    n_class=4,\n",
    "    # openmax=False,\n",
    ")\n"
   ]
  },
  {
   "cell_type": "markdown",
   "metadata": {},
   "source": [
    "### Pls reconstruct this loads of code later, its so messy and inconsistent. Look a test_yolo for a proper pipeline"
   ]
  },
  {
   "cell_type": "code",
   "execution_count": null,
   "metadata": {},
   "outputs": [],
   "source": [
    "ious = []\n",
    "confs = []\n",
    "trues = []\n",
    "preds = []\n",
    "count = 0\n",
    "all_count = 0\n",
    "# test_loader = closed_test_dl\n",
    "test_loader = test_set\n",
    "for batch in test_loader:\n",
    "    all_count+=1\n",
    "    img = batch[0]\n",
    "    y_true = batch[1]\n",
    "    bbox_true = batch[2]\n",
    "\n",
    "    bbox, conf = get_bbox(img, yolo_model)\n",
    "    iou = calculate_iou(bbox, bbox_true)\n",
    "    x, filtered = prep_x(bbox, img, iou)\n",
    "    \n",
    "    ious.append(iou)\n",
    "    if not filtered:\n",
    "        pred = open_model.predict_single(x)\n",
    "    else:\n",
    "        count+=1\n",
    "        continue\n",
    "    \n",
    "    confs.append(conf)\n",
    "    preds.append(pred)\n",
    "    trues.append(y_true)"
   ]
  },
  {
   "cell_type": "code",
   "execution_count": null,
   "metadata": {},
   "outputs": [],
   "source": [
    "np.unique(preds)"
   ]
  },
  {
   "cell_type": "code",
   "execution_count": null,
   "metadata": {},
   "outputs": [],
   "source": [
    "from sklearn.metrics import classification_report, accuracy_score, f1_score\n",
    "\n",
    "preds = np.array(preds)\n",
    "trues = np.array(trues)\n",
    "\n",
    "print(classification_report(trues, preds)) "
   ]
  },
  {
   "cell_type": "code",
   "execution_count": null,
   "metadata": {},
   "outputs": [],
   "source": [
    "# Assuming 'trues' contains true labels and 'preds' contains predicted labels\n",
    "report = classification_report(trues, preds, output_dict=True)\n",
    "\n",
    "# Calculate accuracy\n",
    "accuracy = accuracy_score(trues, preds)\n",
    "\n",
    "# Print accuracy\n",
    "print(f\"Accuracy: {accuracy * 100:.2f}%\")\n",
    "\n",
    "for class_label, metrics in report.items():\n",
    "    if class_label != 'accuracy':\n",
    "        f1_score_percentage = metrics['f1-score'] * 100\n",
    "        recall_percentage = metrics['recall'] * 100\n",
    "        # print(f\"F1 Score for class '{class_label}': {f1_score_percentage:.2f}%\")\n",
    "        print(f\"Recall for class '{class_label}': {recall_percentage:.2f}%\")"
   ]
  },
  {
   "cell_type": "code",
   "execution_count": null,
   "metadata": {},
   "outputs": [],
   "source": [
    "print(\"accuracy:\", accuracy_score(trues, preds))\n",
    "print(\"macro f1:\", f1_score(trues, preds, average=\"macro\"))"
   ]
  },
  {
   "cell_type": "code",
   "execution_count": null,
   "metadata": {},
   "outputs": [],
   "source": [
    "print((count,all_count))\n",
    "count/all_count * 100"
   ]
  },
  {
   "cell_type": "code",
   "execution_count": null,
   "metadata": {},
   "outputs": [],
   "source": [
    "# avg iou and conf\n",
    "print(np.mean(ious))\n",
    "print(np.mean(confs))"
   ]
  },
  {
   "cell_type": "code",
   "execution_count": null,
   "metadata": {},
   "outputs": [],
   "source": [
    "from openmax.confusion_matrix_jhu import *\n",
    "import os\n",
    "\n",
    "species_list = [\"albopictus\",\"culex\",\"japonicus/koreicus\", \"culiseta\", 'mosquito']\n",
    "plot_pretty_blue_confusion_matrix(classes=species_list,\n",
    "                                  y_true = trues.tolist(), y_pred=preds.tolist(),\n",
    "                                  normalize=True,  \n",
    "                                  savepath='confusion_matrix_jhu',\n",
    "                                  figsize=(12,12))"
   ]
  }
 ],
 "metadata": {
  "kernelspec": {
   "display_name": "yolo",
   "language": "python",
   "name": "python3"
  },
  "language_info": {
   "codemirror_mode": {
    "name": "ipython",
    "version": 3
   },
   "file_extension": ".py",
   "mimetype": "text/x-python",
   "name": "python",
   "nbconvert_exporter": "python",
   "pygments_lexer": "ipython3",
   "version": "3.12.4"
  }
 },
 "nbformat": 4,
 "nbformat_minor": 2
}
