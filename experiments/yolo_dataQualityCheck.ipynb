{
 "cells": [
  {
   "cell_type": "markdown",
   "metadata": {},
   "source": [
    "Aim: Filter out the low-quality data"
   ]
  },
  {
   "cell_type": "code",
   "execution_count": 7,
   "metadata": {},
   "outputs": [],
   "source": [
    "# from ultralytics import YOLO\n",
    "import pandas as pd\n",
    "import torch as th\n",
    "import src.data_loader as dl\n",
    "# get yolo to detect mosquito\n",
    "from ultralytics import YOLO\n",
    "from openmax.clf_utils import calculate_iou\n",
    "from PIL import Image\n",
    "from torchvision import transforms\n",
    "import os\n",
    "\n",
    "IMG_SIZE = (224, 224)\n",
    "USE_CHANNEL_LAST = False\n",
    "DATASET = \"laion\"\n",
    "DEVICE = \"cuda:0\"\n",
    "PRESERVE_ASPECT_RATIO = False\n",
    "SHIFT = 0"
   ]
  },
  {
   "cell_type": "code",
   "execution_count": 8,
   "metadata": {},
   "outputs": [],
   "source": [
    "yolo_path = \"/home/pc2/Downloads/AI-Crowd/Mosquito-Classifiction/experiments/yolo/runs/detect/train_6class/weights/best.pt\"\n",
    "CLASS_DICT = {\n",
    "    \"albopictus\": th.tensor(0, dtype=th.float),\n",
    "    \"culex\": th.tensor(1, dtype=th.float),\n",
    "    \"japonicus/koreicus\": th.tensor(2, dtype=th.float),\n",
    "    #\"culiseta\": th.tensor([0, 0, 0, 1,], dtype=th.float),\n",
    "    \"aegypti\": th.tensor(3, dtype=th.float),\n",
    "    #\"anopheles\": th.tensor(4, dtype=th.float),\n",
    "    # \"mosquito\": th.tensor(4, dtype=th.float)\n",
    "}\n",
    "\n",
    "class_dict = {\n",
    "\"albopictus\": th.tensor(0, dtype=th.float),\n",
    "\"culex\": th.tensor(1, dtype=th.float),\n",
    "\"japonicus/koreicus\": th.tensor(2, dtype=th.float),\n",
    "\"aegypti\": th.tensor(3, dtype=th.float),\n",
    "\"mosquito\": th.tensor(4, dtype=th.float)\n",
    "} \n",
    "img_dir = \"\" #\"../data_round_2/final/\"\n",
    "test_annotations_csv = \"../data_round_2/mosAlert_new_annotation_1/test_annotation_1.csv\"\n",
    "test_df = pd.read_csv(test_annotations_csv)\n",
    "test_df = test_df.sample(frac=1).reset_index(drop=True) # need shuffle test set\n",
    "\n",
    "\n",
    "# create test set from dl\n",
    "test_set = dl.TestYOLOCLIPDataset(annotations_df=test_df, \n",
    "                                  class_dict=class_dict,\n",
    "                                  img_dir=img_dir,\n",
    "                                #   transform=dl.pre_process(dataset),\n",
    "                                #   data_augment=dl.aug(\"resize\", img_size),\n",
    "                                  )"
   ]
  },
  {
   "cell_type": "code",
   "execution_count": 9,
   "metadata": {},
   "outputs": [],
   "source": [
    "yolo_model = YOLO(\n",
    "    yolo_path,\n",
    "    task=\"detect\",\n",
    ")\n"
   ]
  },
  {
   "cell_type": "code",
   "execution_count": 10,
   "metadata": {},
   "outputs": [],
   "source": [
    "def get_bbox(img, yolo_model):\n",
    "    # detect mosquito\n",
    "    results = yolo_model(img, verbose=False, device=DEVICE, max_det=1)\n",
    "    img_w, img_h, _ = img.shape\n",
    "    bbox = [0, 0, img_w, img_h]\n",
    "    conf = 0.0\n",
    "    \n",
    "    for result in results:\n",
    "        _bbox = [0, 0, img_w, img_h]\n",
    "        # _label = \"albopictus\"\n",
    "        _conf = 0.0\n",
    "\n",
    "        bboxes_tmp = result.boxes.xyxy.tolist()\n",
    "        # labels_tmp = result.boxes.cls.tolist()\n",
    "        confs_tmp = result.boxes.conf.tolist()\n",
    "\n",
    "        for bbox_tmp, conf_tmp in zip(bboxes_tmp, confs_tmp):\n",
    "            if conf_tmp > _conf:\n",
    "                _bbox = bbox_tmp\n",
    "                _conf = conf_tmp\n",
    "\n",
    "        if _conf > conf:\n",
    "            bbox = _bbox\n",
    "            # label = _label\n",
    "            conf = _conf\n",
    "\n",
    "    bbox = [int(float(mcb)) for mcb in bbox]\n",
    "\n",
    "    return bbox, conf"
   ]
  },
  {
   "cell_type": "code",
   "execution_count": 23,
   "metadata": {},
   "outputs": [],
   "source": [
    "def get_multiBbox(img, yolo_model):\n",
    "    # detect mosquito\n",
    "    results = yolo_model(img, verbose=False, device=DEVICE, max_det=1)\n",
    "    img_w, img_h, _ = img.shape\n",
    "    bbox = [0, 0, img_w, img_h]\n",
    "    conf = 0.0\n",
    "    bboxes = []\n",
    "    confs = []\n",
    "    \n",
    "    for result in results:\n",
    "        _bbox = [0, 0, img_w, img_h]\n",
    "        # _label = \"albopictus\"\n",
    "        _conf = 0.0\n",
    "\n",
    "        bboxes_tmp = result.boxes.xyxy.tolist()\n",
    "        # labels_tmp = result.boxes.cls.tolist()\n",
    "        confs_tmp = result.boxes.conf.tolist()\n",
    "\n",
    "        for bbox_tmp, conf_tmp in zip(bboxes_tmp, confs_tmp):\n",
    "            bboxes.append([int(float(coord)) for coord in bbox_tmp])\n",
    "            confs.append(conf_tmp)\n",
    "\n",
    "    return bboxes, confs"
   ]
  },
  {
   "cell_type": "code",
   "execution_count": 11,
   "metadata": {},
   "outputs": [
    {
     "name": "stdout",
     "output_type": "stream",
     "text": [
      "(0.0, 0.0, 394.0, 394.0)\n"
     ]
    }
   ],
   "source": [
    "# santiy check test set\n",
    "for i in test_set:\n",
    "    #print(batch[0].shape)\n",
    "    # print(batch[1])\n",
    "    print(i[2])\n",
    "    break"
   ]
  },
  {
   "cell_type": "code",
   "execution_count": 25,
   "metadata": {},
   "outputs": [
    {
     "name": "stdout",
     "output_type": "stream",
     "text": [
      "Incorrect number of objects (0) detected.\n"
     ]
    }
   ],
   "source": [
    "ious = []\n",
    "confs = []\n",
    "trues = []\n",
    "preds = []\n",
    "failed_dir = 'failed_imgs'\n",
    "img_transform = transforms.ToPILImage()\n",
    "#won_dir = 'won_imgs'\n",
    "os.makedirs(failed_dir, exist_ok=True)\n",
    "threshold = 0.5\n",
    "idx = 0\n",
    "for batch in test_set:\n",
    "    img = batch[0]\n",
    "    y_true = batch[1]\n",
    "    bbox_true = batch[2]\n",
    "\n",
    "    bbox, conf = get_multiBbox(img, yolo_model)\n",
    "    # iou = calculate_iou(bbox, bbox_true)\n",
    "    # print(bbox)\n",
    "    # print(len(bbox))\n",
    "    # if(idx == 100):\n",
    "    #     break\n",
    "    # idx+=1\n",
    "    if len(bbox) != 1:\n",
    "        print(f\"Incorrect number of objects ({len(bbox)}) detected.\")\n",
    "        img = img_transform(img)\n",
    "        img.save(os.path.join(failed_dir, f\"image_{idx}.png\"))\n",
    "        idx += 1\n",
    "        break\n",
    "    \n",
    "    # ious.append(calculate_iou(bbox, bbox_true))\n",
    "    # confs.append(conf)    "
   ]
  },
  {
   "cell_type": "code",
   "execution_count": null,
   "metadata": {},
   "outputs": [],
   "source": [
    "import numpy as np\n",
    "np.mean(ious), np.mean(confs)"
   ]
  }
 ],
 "metadata": {
  "kernelspec": {
   "display_name": "yolo",
   "language": "python",
   "name": "python3"
  },
  "language_info": {
   "codemirror_mode": {
    "name": "ipython",
    "version": 3
   },
   "file_extension": ".py",
   "mimetype": "text/x-python",
   "name": "python",
   "nbconvert_exporter": "python",
   "pygments_lexer": "ipython3",
   "version": "3.12.4"
  }
 },
 "nbformat": 4,
 "nbformat_minor": 2
}
